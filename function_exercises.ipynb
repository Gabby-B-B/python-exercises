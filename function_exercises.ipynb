{
 "cells": [
  {
   "cell_type": "markdown",
   "metadata": {},
   "source": [
    "1. Define a function named is_two. It should accept one input and return True if the passed input is either the number or the string 2, False otherwise."
   ]
  },
  {
   "cell_type": "code",
   "execution_count": 90,
   "metadata": {},
   "outputs": [
    {
     "name": "stdout",
     "output_type": "stream",
     "text": [
      "Your is_two function is working properly.\n"
     ]
    }
   ],
   "source": [
    "def is_two (letter):\n",
    "    if letter == 2 or letter == \"2\":\n",
    "        return True\n",
    "    else:\n",
    "        return False\n",
    "assert is_two(2)== True\n",
    "assert is_two(\"2\")== True\n",
    "assert is_two (3)== False\n",
    "print(\"Your is_two function is working properly.\")"
   ]
  },
  {
   "cell_type": "markdown",
   "metadata": {},
   "source": [
    "2. Define a function named is_vowel. It should return True if the passed string is a vowel, False otherwise."
   ]
  },
  {
   "cell_type": "code",
   "execution_count": 9,
   "metadata": {},
   "outputs": [
    {
     "name": "stdout",
     "output_type": "stream",
     "text": [
      "The is_vowel function is working properly.\n"
     ]
    }
   ],
   "source": [
    "def is_vowel (string):\n",
    "    lvowel= ['a', 'e', 'i', 'o', 'u']\n",
    "    uvowel= ['A', 'E', 'I', 'O', 'U']\n",
    "    if (string in lvowel) or (string in uvowel):\n",
    "        return True\n",
    "    else:\n",
    "        return False\n",
    "assert is_vowel(\"a\") == True\n",
    "assert is_vowel(\"U\") == True\n",
    "assert is_vowel(\"tomato\") == False\n",
    "assert is_vowel(\"N\") == False\n",
    "assert is_vowel(\"y\") == False\n",
    "print(\"The is_vowel function is working properly.\")"
   ]
  },
  {
   "cell_type": "markdown",
   "metadata": {},
   "source": [
    "3. Define a function named is_consonant. It should return True if the passed string is a consonant, False otherwise. Use your is_vowel function to accomplish this."
   ]
  },
  {
   "cell_type": "code",
   "execution_count": 20,
   "metadata": {},
   "outputs": [
    {
     "name": "stdout",
     "output_type": "stream",
     "text": [
      "The is_vowel function is working properly.\n"
     ]
    }
   ],
   "source": [
    "def is_consonant (string):\n",
    "    lvowel= ['a', 'e', 'i', 'o', 'u']\n",
    "    uvowel= ['A', 'E', 'I', 'O', 'U']\n",
    "    if (string in lvowel) or (string in uvowel):\n",
    "        return False\n",
    "    else:\n",
    "        return True\n",
    "assert is_consonant(\"a\") == False\n",
    "assert is_consonant(\"U\") == False\n",
    "assert is_consonant(\"tomato\") == True\n",
    "assert is_consonant(\"N\") == True\n",
    "assert is_consonant(\"y\") == True\n",
    "print(\"The is_consonant function is working properly.\")"
   ]
  },
  {
   "cell_type": "markdown",
   "metadata": {},
   "source": [
    "4. Define a function that accepts a string that is a word. The function should capitalize the first letter of the word if the word starts with a consonant."
   ]
  },
  {
   "cell_type": "code",
   "execution_count": 62,
   "metadata": {},
   "outputs": [
    {
     "name": "stdout",
     "output_type": "stream",
     "text": [
      "The string_is_a_word function is working properly.\n"
     ]
    }
   ],
   "source": [
    "def word(stringer):\n",
    "    if is_consonant(stringer[0])== True:\n",
    "        return stringer.capitalize()\n",
    "    else:\n",
    "        return stringer.lower()\n",
    "assert word(\"icedcoffee\") == \"icedcoffee\"\n",
    "assert word(\"cupofnoodles\") == \"Cupofnoodles\"\n",
    "assert word(\"twinkies\") == \"Twinkies\"\n",
    "assert word(\"apple\") == \"apple\"\n",
    "print(\"The string_is_a_word function is working properly.\")"
   ]
  },
  {
   "cell_type": "markdown",
   "metadata": {},
   "source": [
    "5. Define a function named calculate_tip. It should accept a tip percentage (a number between 0 and 1) and the bill total, and return the amount to tip."
   ]
  },
  {
   "cell_type": "code",
   "execution_count": 93,
   "metadata": {},
   "outputs": [
    {
     "name": "stdout",
     "output_type": "stream",
     "text": [
      "Your calculate_tip function is working properly.\n"
     ]
    }
   ],
   "source": [
    "def calculate_tip(num, num2):\n",
    "    tip= num * num2\n",
    "    total_bill= num + tip\n",
    "    return total_bill\n",
    "assert calculate_tip(50, .20) == 60\n",
    "assert calculate_tip(100, .10)== 110\n",
    "print(\"Your calculate_tip function is working properly.\")"
   ]
  },
  {
   "cell_type": "markdown",
   "metadata": {},
   "source": [
    "6. Define a function named apply_discount. It should accept a original price, and a discount percentage, and return the price after the discount is applied"
   ]
  },
  {
   "cell_type": "code",
   "execution_count": 92,
   "metadata": {},
   "outputs": [
    {
     "name": "stdout",
     "output_type": "stream",
     "text": [
      "Your apply_discount function is working properly.\n"
     ]
    }
   ],
   "source": [
    "def apply_discount(num, num2):\n",
    "    original_price= num\n",
    "    discount_percentage= num2\n",
    "    discount= num * num2\n",
    "    total_price= num - discount\n",
    "    return total_price\n",
    "assert apply_discount (10, .20) == 8\n",
    "print(\"Your apply_discount function is working properly.\")"
   ]
  },
  {
   "cell_type": "markdown",
   "metadata": {},
   "source": [
    "7. Define a function named handle_commas. It should accept a string that is a number that contains commas in it as input, and return a number as output."
   ]
  },
  {
   "cell_type": "code",
   "execution_count": 96,
   "metadata": {},
   "outputs": [
    {
     "name": "stdout",
     "output_type": "stream",
     "text": [
      "Your handle_commas function is working properly.\n"
     ]
    }
   ],
   "source": [
    "def handle_commas (string):\n",
    "    return int(string.replace(\",\", \"\"))\n",
    "assert handle_commas (\"1,000\") == 1000\n",
    "assert handle_commas (\"200,000\") == 200000\n",
    "assert handle_commas (\"10\")== 10\n",
    "print(\"Your handle_commas function is working properly.\")"
   ]
  },
  {
   "cell_type": "markdown",
   "metadata": {},
   "source": [
    "8. Define a function named get_letter_grade. It should accept a number and return the letter grade associated with that number (A-F)."
   ]
  },
  {
   "cell_type": "code",
   "execution_count": 102,
   "metadata": {},
   "outputs": [
    {
     "name": "stdout",
     "output_type": "stream",
     "text": [
      "Your get_letter_grade function is running properly\n"
     ]
    }
   ],
   "source": [
    "def get_letter_grade (num):\n",
    "    if num >= 90:\n",
    "        return \"A\"\n",
    "    elif num >= 80 and num <= 89:\n",
    "        return \"B\"\n",
    "    elif num >= 76 and num <= 79:\n",
    "        return \"C\"\n",
    "    elif num >= 70 and num <=75:\n",
    "        return \"D\"\n",
    "    elif num <= 60:\n",
    "        return \"D\"\n",
    "assert get_letter_grade(100)== \"A\"\n",
    "assert get_letter_grade(76)== \"C\"\n",
    "assert get_letter_grade(88)==\"B\"\n",
    "print(\"Your get_letter_grade function is running properly\")"
   ]
  },
  {
   "cell_type": "markdown",
   "metadata": {},
   "source": [
    "9. Define a function named remove_vowels that accepts a string and returns a string with all the vowels removed."
   ]
  },
  {
   "cell_type": "code",
   "execution_count": 130,
   "metadata": {},
   "outputs": [
    {
     "name": "stdout",
     "output_type": "stream",
     "text": [
      "The remove_vowels function is working properly.\n"
     ]
    }
   ],
   "source": [
    "def remove_vowels(string):\n",
    "    vow = [\"a\", \"e\", \"i\", \"o\", \"u\"]\n",
    "    chars = []\n",
    "    for i in string: \n",
    "        if i.lower() not in vow:\n",
    "            chars.append(i)\n",
    "    return \"\".join(chars)\n",
    "assert remove_vowels(\"isolette\") == \"sltt\"\n",
    "assert remove_vowels(\"neonatal\") == \"nntl\"\n",
    "assert remove_vowels(\"nurse\") == \"nrs\"\n",
    "assert remove_vowels(\"WORK\") == \"WRK\"\n",
    "print(\"The remove_vowels function is working properly.\")"
   ]
  },
  {
   "cell_type": "markdown",
   "metadata": {},
   "source": [
    "10. Define a function named normalize_name. It should accept a string and return a valid python identifier, that is:\n",
    "        -anything that is not a valid python identifier should be removed\n",
    "        -leading and trailing whitespace should be removed\n",
    "        -everything should be lowercase\n",
    "        -spaces should be replaced with underscores\n",
    "    for example:\n",
    "        -Name will become name\n",
    "        -First Name will become first_name\n",
    "        -% Completed will become completed"
   ]
  },
  {
   "cell_type": "code",
   "execution_count": 1,
   "metadata": {},
   "outputs": [
    {
     "ename": "TypeError",
     "evalue": "isidentifier() takes no arguments (1 given)",
     "output_type": "error",
     "traceback": [
      "\u001b[0;31m---------------------------------------------------------------------------\u001b[0m",
      "\u001b[0;31mTypeError\u001b[0m                                 Traceback (most recent call last)",
      "\u001b[0;32m<ipython-input-1-cc81dcd399ae>\u001b[0m in \u001b[0;36m<module>\u001b[0;34m\u001b[0m\n\u001b[1;32m      7\u001b[0m         \u001b[0;32mif\u001b[0m \u001b[0mletter\u001b[0m\u001b[0;34m.\u001b[0m\u001b[0misidentifier\u001b[0m\u001b[0;34m(\u001b[0m\u001b[0;34m\" I lOvE pYtHoN% \"\u001b[0m\u001b[0;34m)\u001b[0m\u001b[0;34m:\u001b[0m\u001b[0;34m\u001b[0m\u001b[0;34m\u001b[0m\u001b[0m\n\u001b[1;32m      8\u001b[0m             \u001b[0moutput\u001b[0m \u001b[0;34m+=\u001b[0m \u001b[0mletter\u001b[0m\u001b[0;34m\u001b[0m\u001b[0;34m\u001b[0m\u001b[0m\n\u001b[0;32m----> 9\u001b[0;31m \u001b[0;32massert\u001b[0m \u001b[0mnormalize_name\u001b[0m\u001b[0;34m(\u001b[0m\u001b[0;34m\" I lOvE pYtHoN% \"\u001b[0m\u001b[0;34m)\u001b[0m\u001b[0;34m==\u001b[0m \u001b[0;34m\"i_love_python\"\u001b[0m\u001b[0;34m\u001b[0m\u001b[0;34m\u001b[0m\u001b[0m\n\u001b[0m\u001b[1;32m     10\u001b[0m \u001b[0mprint\u001b[0m\u001b[0;34m(\u001b[0m\u001b[0;34m\"Your normalize_name function is working properly.\"\u001b[0m\u001b[0;34m)\u001b[0m\u001b[0;34m\u001b[0m\u001b[0;34m\u001b[0m\u001b[0m\n",
      "\u001b[0;32m<ipython-input-1-cc81dcd399ae>\u001b[0m in \u001b[0;36mnormalize_name\u001b[0;34m(string)\u001b[0m\n\u001b[1;32m      5\u001b[0m     \u001b[0moutput\u001b[0m\u001b[0;34m=\u001b[0m\u001b[0;34m\"\"\u001b[0m\u001b[0;34m\u001b[0m\u001b[0;34m\u001b[0m\u001b[0m\n\u001b[1;32m      6\u001b[0m     \u001b[0;32mfor\u001b[0m \u001b[0mletter\u001b[0m \u001b[0;32min\u001b[0m \u001b[0mstring\u001b[0m\u001b[0;34m:\u001b[0m\u001b[0;34m\u001b[0m\u001b[0;34m\u001b[0m\u001b[0m\n\u001b[0;32m----> 7\u001b[0;31m         \u001b[0;32mif\u001b[0m \u001b[0mletter\u001b[0m\u001b[0;34m.\u001b[0m\u001b[0misidentifier\u001b[0m\u001b[0;34m(\u001b[0m\u001b[0;34m\" I lOvE pYtHoN% \"\u001b[0m\u001b[0;34m)\u001b[0m\u001b[0;34m:\u001b[0m\u001b[0;34m\u001b[0m\u001b[0;34m\u001b[0m\u001b[0m\n\u001b[0m\u001b[1;32m      8\u001b[0m             \u001b[0moutput\u001b[0m \u001b[0;34m+=\u001b[0m \u001b[0mletter\u001b[0m\u001b[0;34m\u001b[0m\u001b[0;34m\u001b[0m\u001b[0m\n\u001b[1;32m      9\u001b[0m \u001b[0;32massert\u001b[0m \u001b[0mnormalize_name\u001b[0m\u001b[0;34m(\u001b[0m\u001b[0;34m\" I lOvE pYtHoN% \"\u001b[0m\u001b[0;34m)\u001b[0m\u001b[0;34m==\u001b[0m \u001b[0;34m\"i_love_python\"\u001b[0m\u001b[0;34m\u001b[0m\u001b[0;34m\u001b[0m\u001b[0m\n",
      "\u001b[0;31mTypeError\u001b[0m: isidentifier() takes no arguments (1 given)"
     ]
    }
   ],
   "source": [
    "def normalize_name(string):\n",
    "    string = string.strip()\n",
    "    string = string.lower()\n",
    "    string = string.replace(\" \", \"_\")\n",
    "    output=\"\"\n",
    "    for letter in string:\n",
    "        if letter.isidentifier():\n",
    "            output += letter\n",
    "assert normalize_name(\" I lOvE pYtHoN% \")== \"i_love_python\"\n",
    "print(\"Your normalize_name function is working properly.\")"
   ]
  },
  {
   "cell_type": "markdown",
   "metadata": {},
   "source": [
    "11. Write a function named cumulative_sum that accepts a list of numbers and returns a list that is the cumulative sum of the numbers in the list.\n",
    "        cumulative_sum([1, 1, 1]) returns [1, 2, 3]\n",
    "        cumulative_sum([1, 2, 3, 4]) returns [1, 3, 6, 10]"
   ]
  },
  {
   "cell_type": "code",
   "execution_count": 103,
   "metadata": {},
   "outputs": [
    {
     "name": "stdout",
     "output_type": "stream",
     "text": [
      "Your cumulative_sum function is working appropriately.\n"
     ]
    }
   ],
   "source": [
    "def cumulative_sum (lists):\n",
    "    cumulative_list = []  \n",
    "    length = len(lists)  \n",
    "    cumulative_list = [sum(lists[0:x:1]) for x in range(0, length+1)]  \n",
    "    return cumulative_list[1:]\n",
    "assert cumulative_sum ([1,1,1]) == [1, 2, 3]\n",
    "assert cumulative_sum([1, 2, 3, 4]) == [1, 3, 6, 10]\n",
    "print(\"Your cumulative_sum function is working appropriately.\")"
   ]
  },
  {
   "cell_type": "markdown",
   "metadata": {},
   "source": [
    "Bonus"
   ]
  },
  {
   "cell_type": "markdown",
   "metadata": {},
   "source": [
    "1. Create a function named twelveto24. It should accept a string in the format 10:45am or 4:30pm and return a string that is the representation of the time in a 24-hour format. "
   ]
  },
  {
   "cell_type": "code",
   "execution_count": null,
   "metadata": {},
   "outputs": [],
   "source": []
  },
  {
   "cell_type": "markdown",
   "metadata": {},
   "source": [
    "2. Bonus write a function that does the opposite."
   ]
  },
  {
   "cell_type": "code",
   "execution_count": null,
   "metadata": {},
   "outputs": [],
   "source": []
  },
  {
   "cell_type": "markdown",
   "metadata": {},
   "source": [
    "3. Create a function named col_index. It should accept a spreadsheet column name, and return the index number of the column.\n",
    "            col_index('A') returns 1\n",
    "            col_index('B') returns 2\n",
    "            col_index('AA') returns 27"
   ]
  },
  {
   "cell_type": "code",
   "execution_count": null,
   "metadata": {},
   "outputs": [],
   "source": [
    "def col_index(name):\n",
    "    "
   ]
  }
 ],
 "metadata": {
  "kernelspec": {
   "display_name": "Python 3",
   "language": "python",
   "name": "python3"
  },
  "language_info": {
   "codemirror_mode": {
    "name": "ipython",
    "version": 3
   },
   "file_extension": ".py",
   "mimetype": "text/x-python",
   "name": "python",
   "nbconvert_exporter": "python",
   "pygments_lexer": "ipython3",
   "version": "3.7.6"
  }
 },
 "nbformat": 4,
 "nbformat_minor": 4
}
