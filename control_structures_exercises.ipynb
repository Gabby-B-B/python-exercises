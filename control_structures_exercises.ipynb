{
 "cells": [
  {
   "cell_type": "code",
   "execution_count": null,
   "metadata": {},
   "outputs": [],
   "source": [
    "#Conditional Basics\n",
    "#prompt the user for a day of the week, print out whether the day is Monday or not\n",
    "print(\"Please input a day of the week: \")\n",
    "day = input()\n",
    "if day.lower in input() == 'monday':\n",
    "    print(\"Thank you for choosing Monday\")\n",
    "else:\n",
    "    print(\"You did not choose Monday. Please choose another day of the week.\")"
   ]
  },
  {
   "cell_type": "code",
   "execution_count": 1,
   "metadata": {},
   "outputs": [
    {
     "name": "stdout",
     "output_type": "stream",
     "text": [
      "Please input a day of the week: \n",
      "Monday\n",
      "\n",
      "Monday is a weekday.\n"
     ]
    }
   ],
   "source": [
    "#prompt the user for a day of the week, print out whether the day is a weekday or a weekend\n",
    "print(\"Please input a day of the week: \")\n",
    "day = input()\n",
    "if day.lower() in input() == 'monday' or 'tuesday' or 'wednesday' or 'thursday' or 'friday':\n",
    "    print(day, \"is a weekday.\")\n",
    "else:\n",
    "    print (day, \"is on the weekend.\")\n",
    "    "
   ]
  },
  {
   "cell_type": "code",
   "execution_count": 2,
   "metadata": {},
   "outputs": [
    {
     "name": "stdout",
     "output_type": "stream",
     "text": [
      "Please input how many hours you worked.\n",
      "40\n",
      "Please input your hourly rate of pay.\n",
      "25\n",
      "Your gross pay is: $ 1000.0\n"
     ]
    }
   ],
   "source": [
    "#create variables and make up values for\n",
    "\n",
    "#the number of hours worked in one week\n",
    "#the hourly rate\n",
    "#how much the week's paycheck will be\n",
    "#write the python code that calculates the weekly paycheck. You get paid time and a half if you work more than 40 hours\n",
    "\n",
    "print(\"Please input how many hours you worked.\")\n",
    "hours_worked= int(input())\n",
    "print (\"Please input your hourly rate of pay.\")\n",
    "hourly_pay= float(input())             \n",
    "if hours_worked < 41:\n",
    "    total_no_overtime= hours_worked * hourly_pay\n",
    "    print(\"Your gross pay is: $\",round(total_no_overtime, 2))\n",
    "else:\n",
    "    overtime_pay= hourly_pay * 1.5\n",
    "    overtime_hours= hours_worked - 41\n",
    "    hours= 40\n",
    "    total_with_overtime = (hours * hourly_pay) + (overtime_hours * overtime_pay)\n",
    "    print(\"Your gross pay is: $\",round(total_with_overtime, 2))\n"
   ]
  },
  {
   "cell_type": "code",
   "execution_count": 5,
   "metadata": {},
   "outputs": [],
   "source": [
    "#2. Loop Basics\n",
    "#While"
   ]
  },
  {
   "cell_type": "code",
   "execution_count": 3,
   "metadata": {},
   "outputs": [
    {
     "name": "stdout",
     "output_type": "stream",
     "text": [
      "5\n",
      "6\n",
      "7\n",
      "8\n",
      "9\n",
      "10\n",
      "11\n",
      "12\n",
      "13\n",
      "14\n",
      "15\n"
     ]
    }
   ],
   "source": [
    "#Create an integer variable i with a value of 5.\n",
    "#Create a while loop that runs so long as i is less than or equal to 15\n",
    "# Each loop iteration, output the current value of i, then increment i by one.\n",
    "i = 5\n",
    "while i <16 :\n",
    "    print(i)\n",
    "    i+=1"
   ]
  },
  {
   "cell_type": "code",
   "execution_count": 6,
   "metadata": {},
   "outputs": [
    {
     "name": "stdout",
     "output_type": "stream",
     "text": [
      "0\n",
      "2\n",
      "4\n",
      "6\n",
      "8\n",
      "10\n",
      "12\n",
      "14\n",
      "16\n",
      "18\n",
      "20\n",
      "22\n",
      "24\n",
      "26\n",
      "28\n",
      "30\n",
      "32\n",
      "34\n",
      "36\n",
      "38\n",
      "40\n",
      "42\n",
      "44\n",
      "46\n",
      "48\n",
      "50\n",
      "52\n",
      "54\n",
      "56\n",
      "58\n",
      "60\n",
      "62\n",
      "64\n",
      "66\n",
      "68\n",
      "70\n",
      "72\n",
      "74\n",
      "76\n",
      "78\n",
      "80\n",
      "82\n",
      "84\n",
      "86\n",
      "88\n",
      "90\n",
      "92\n",
      "94\n",
      "96\n",
      "98\n",
      "100\n"
     ]
    }
   ],
   "source": [
    "#Create a while loop that will count by 2's starting with 0 and ending at 100. Follow each number with a new line.\n",
    "by_twos = 0\n",
    "while by_twos <101:\n",
    "    print(by_twos)\n",
    "    by_twos +=2"
   ]
  },
  {
   "cell_type": "code",
   "execution_count": 9,
   "metadata": {},
   "outputs": [
    {
     "name": "stdout",
     "output_type": "stream",
     "text": [
      "100\n",
      "95\n",
      "90\n",
      "85\n",
      "80\n",
      "75\n",
      "70\n",
      "65\n",
      "60\n",
      "55\n",
      "50\n",
      "45\n",
      "40\n",
      "35\n",
      "30\n",
      "25\n",
      "20\n",
      "15\n",
      "10\n",
      "5\n",
      "0\n",
      "-5\n",
      "-10\n"
     ]
    }
   ],
   "source": [
    "#Alter your loop to count backwards by 5's from 100 to -10.\n",
    "minus_fives= 100\n",
    "while minus_fives > -11:\n",
    "    print(minus_fives)\n",
    "    minus_fives -= 5"
   ]
  },
  {
   "cell_type": "code",
   "execution_count": 35,
   "metadata": {},
   "outputs": [
    {
     "name": "stdout",
     "output_type": "stream",
     "text": [
      "2\n",
      "4\n",
      "16\n",
      "256\n",
      "65536\n"
     ]
    }
   ],
   "source": [
    "#Create a while loop that starts at 2, and displays the number squared on each line while the number is less than 1,000,000. Output should equal:\n",
    "squareds = 2\n",
    "while squareds < 1000000:\n",
    "    print(squareds)\n",
    "    squareds = squareds ** 2"
   ]
  },
  {
   "cell_type": "code",
   "execution_count": 12,
   "metadata": {},
   "outputs": [
    {
     "name": "stdout",
     "output_type": "stream",
     "text": [
      "100\n",
      "95\n",
      "90\n",
      "85\n",
      "80\n",
      "75\n",
      "70\n",
      "65\n",
      "60\n",
      "55\n",
      "50\n",
      "45\n",
      "40\n",
      "35\n",
      "30\n",
      "25\n",
      "20\n",
      "15\n",
      "10\n",
      "5\n"
     ]
    }
   ],
   "source": [
    "# Write a loop that uses print to create the output shown below.\n",
    "minus_five= 100\n",
    "while minus_five > 0:\n",
    "    print(minus_five)\n",
    "    minus_five -= 5"
   ]
  },
  {
   "cell_type": "code",
   "execution_count": null,
   "metadata": {},
   "outputs": [],
   "source": [
    "# B. For Loops"
   ]
  },
  {
   "cell_type": "code",
   "execution_count": 36,
   "metadata": {},
   "outputs": [
    {
     "name": "stdout",
     "output_type": "stream",
     "text": [
      "Please input a number:\n",
      "11\n",
      "11 x 1 = 11\n",
      "11 x 2 = 22\n",
      "11 x 3 = 33\n",
      "11 x 4 = 44\n",
      "11 x 5 = 55\n",
      "11 x 6 = 66\n",
      "11 x 7 = 77\n",
      "11 x 8 = 88\n",
      "11 x 9 = 99\n",
      "11 x 10 = 110\n"
     ]
    }
   ],
   "source": [
    "#Write some code that prompts the user for a number, then shows a multiplication table up through 10 for that number.\n",
    "print(\"Please input a number:\")\n",
    "num= int(input())\n",
    "\n",
    "for n in range(1,11):\n",
    "    print(num, \"x\", n, \"=\", num*n)"
   ]
  },
  {
   "cell_type": "code",
   "execution_count": 16,
   "metadata": {},
   "outputs": [
    {
     "name": "stdout",
     "output_type": "stream",
     "text": [
      "\n",
      "1\n",
      "22\n",
      "333\n",
      "4444\n",
      "55555\n",
      "666666\n",
      "7777777\n",
      "88888888\n",
      "999999999\n"
     ]
    }
   ],
   "source": [
    "#Create a for loop that uses print to create the output shown below.\n",
    "for n in range (10):\n",
    "    print(str(n)*n)"
   ]
  },
  {
   "cell_type": "code",
   "execution_count": null,
   "metadata": {},
   "outputs": [],
   "source": [
    "# C. Break and Continue"
   ]
  },
  {
   "cell_type": "code",
   "execution_count": 5,
   "metadata": {},
   "outputs": [
    {
     "name": "stdout",
     "output_type": "stream",
     "text": [
      "Please enter an odd number between 1 and 50\n",
      "10\n",
      "You did not choose a valid number. Please choose an odd number between 1 and 50.\n"
     ]
    }
   ],
   "source": [
    "#Prompt the user for an odd number between 1 and 50. \n",
    "#Use a loop and a break statement to continue prompting the user if they enter invalid input. \n",
    "#(Hint: use the isdigit method on strings to determine this). Use a loop and the continue statement to \n",
    "#output all the odd numbers between 1 and 50, except for the number the user entered.\n",
    "print(\"Please enter an odd number between 1 and 50:\")\n",
    "odd_number= int(input())\n",
    "if odd_number in range(0,51) and odd_number % 1 ==1:\n",
    "    print(\"Thank you for choosing a valid number.\")\n",
    "else:\n",
    "    print (\"You did not choose a valid number. Please choose an odd number between 1 and 50.\")\n"
   ]
  },
  {
   "cell_type": "code",
   "execution_count": 7,
   "metadata": {},
   "outputs": [
    {
     "name": "stdout",
     "output_type": "stream",
     "text": [
      "Please enter a positive number:\n",
      "10\n",
      "0\n",
      "1\n",
      "2\n",
      "3\n",
      "4\n",
      "5\n",
      "6\n",
      "7\n",
      "8\n",
      "9\n",
      "10\n"
     ]
    }
   ],
   "source": [
    "#The input function can be used to prompt for input and use that input in your python code. \n",
    "#Prompt the user to enter a positive number and write a loop that counts from 0 to that number. \n",
    "#(Hints: first make sure that the value the user entered is a valid number,\n",
    "#also note that the input function returns a string, so you'll need to convert this to a numeric type.)\n",
    "print(\"Please enter a positive number:\")\n",
    "pos_num= int(input())\n",
    "for pos_num in range(0, pos_num+1, 1):\n",
    "    print(pos_num)"
   ]
  },
  {
   "cell_type": "code",
   "execution_count": 3,
   "metadata": {},
   "outputs": [
    {
     "name": "stdout",
     "output_type": "stream",
     "text": [
      "Please enter a positive integer.\n",
      "10\n",
      "10\n",
      "9\n",
      "8\n",
      "7\n",
      "6\n",
      "5\n",
      "4\n",
      "3\n",
      "2\n",
      "1\n"
     ]
    }
   ],
   "source": [
    "#Write a program that prompts the user for a positive integer. \n",
    "#Next write a loop that prints out the numbers from the number the user entered down to 1.\n",
    "print(\"Please enter a positive integer:\")\n",
    "positive_integer= int(input())\n",
    "for positive_integer in range(positive_integer, 0, -1):\n",
    "    print(positive_integer)"
   ]
  },
  {
   "cell_type": "code",
   "execution_count": 28,
   "metadata": {},
   "outputs": [
    {
     "name": "stdout",
     "output_type": "stream",
     "text": [
      "1\n",
      "2\n",
      "Fizz\n",
      "4\n",
      "Buzz\n",
      "Fizz\n",
      "7\n",
      "8\n",
      "Fizz\n",
      "Buzz\n",
      "11\n",
      "Fizz\n",
      "13\n",
      "14\n",
      "FizzBuzz\n",
      "16\n",
      "17\n",
      "Fizz\n",
      "19\n",
      "Buzz\n",
      "Fizz\n",
      "22\n",
      "23\n",
      "Fizz\n",
      "Buzz\n",
      "26\n",
      "Fizz\n",
      "28\n",
      "29\n",
      "FizzBuzz\n",
      "31\n",
      "32\n",
      "Fizz\n",
      "34\n",
      "Buzz\n",
      "Fizz\n",
      "37\n",
      "38\n",
      "Fizz\n",
      "Buzz\n",
      "41\n",
      "Fizz\n",
      "43\n",
      "44\n",
      "FizzBuzz\n",
      "46\n",
      "47\n",
      "Fizz\n",
      "49\n",
      "Buzz\n",
      "Fizz\n",
      "52\n",
      "53\n",
      "Fizz\n",
      "Buzz\n",
      "56\n",
      "Fizz\n",
      "58\n",
      "59\n",
      "FizzBuzz\n",
      "61\n",
      "62\n",
      "Fizz\n",
      "64\n",
      "Buzz\n",
      "Fizz\n",
      "67\n",
      "68\n",
      "Fizz\n",
      "Buzz\n",
      "71\n",
      "Fizz\n",
      "73\n",
      "74\n",
      "FizzBuzz\n",
      "76\n",
      "77\n",
      "Fizz\n",
      "79\n",
      "Buzz\n",
      "Fizz\n",
      "82\n",
      "83\n",
      "Fizz\n",
      "Buzz\n",
      "86\n",
      "Fizz\n",
      "88\n",
      "89\n",
      "FizzBuzz\n",
      "91\n",
      "92\n",
      "Fizz\n",
      "94\n",
      "Buzz\n",
      "Fizz\n",
      "97\n",
      "98\n",
      "Fizz\n",
      "Buzz\n"
     ]
    }
   ],
   "source": [
    "# 3. Fizz Buzz\n",
    "# Write a program that prints the numbers from 1 to 100.\n",
    "# For multiples of three print \"Fizz\" instead of the number\n",
    "# For the multiples of five print \"Buzz\".\n",
    "# For numbers which are multiples of both three and five print \"FizzBuzz\".\n",
    "i=1\n",
    "for i in range (1,101):\n",
    "    if i % 3 == 0 and i % 5 == 0:\n",
    "        print(\"FizzBuzz\")\n",
    "        continue\n",
    "    elif i % 3 == 0:\n",
    "        print(\"Fizz\")\n",
    "        continue\n",
    "    elif i % 5 == 0:\n",
    "        print(\"Buzz\")\n",
    "        continue\n",
    "    print(i)"
   ]
  },
  {
   "cell_type": "code",
   "execution_count": null,
   "metadata": {},
   "outputs": [],
   "source": [
    "#Display a table of powers.\n",
    "\n",
    "#Prompt the user to enter an integer.\n",
    "#Display a table of squares and cubes from 1 to the value entered.\n",
    "#Ask if the user wants to continue.\n",
    "#Assume that the user will enter valid data.\n",
    "#Only continue if the user agrees to.\n",
    "#Example Output\n",
    "\n",
    "#What number would you like to go up to? 5\n",
    "\n",
    "#Here is your table!\n",
    "\n",
    "#number | squared | cubed\n",
    "#------ | ------- | -----\n",
    "#1      | 1       | 1\n",
    "#2      | 4       | 8\n",
    "#3      | 9       | 27\n",
    "#4      | 16      | 64\n",
    "#5      | 25      | 125\n",
    "#Bonus: Research python's format string specifiers to align the table\n",
    "continues= input(\"Do you want to continue?\")\n",
    "while continues == \"yes\" or continues == \"y\":\n",
    "    up_to= int(input(\"What number do you want to go up to?\"))\n",
    "    for n in range (n, up_to+1):\n",
    "        squared= n ** 2\n",
    "        cubed=  n ** 3\n",
    "        print(f\"{n} | {squared} | {cubed}\")\n",
    "    continues= input(\"Do you want to continue?\")\n",
    "    if continues not in [\"yes\", \"y\"]:\n",
    "        print(\"The code will not continue per your request.\")"
   ]
  },
  {
   "cell_type": "code",
   "execution_count": 74,
   "metadata": {},
   "outputs": [
    {
     "ename": "IndentationError",
     "evalue": "expected an indented block (<ipython-input-74-119293f1210c>, line 21)",
     "output_type": "error",
     "traceback": [
      "\u001b[0;36m  File \u001b[0;32m\"<ipython-input-74-119293f1210c>\"\u001b[0;36m, line \u001b[0;32m21\u001b[0m\n\u001b[0;31m    print(\"A\")\u001b[0m\n\u001b[0m        ^\u001b[0m\n\u001b[0;31mIndentationError\u001b[0m\u001b[0;31m:\u001b[0m expected an indented block\n"
     ]
    }
   ],
   "source": [
    "#5.\n",
    "# Convert given number grades into letter grades.\n",
    "\n",
    "#Prompt the user for a numerical grade from 0 to 100.\n",
    "#Display the corresponding letter grade.\n",
    "#Prompt the user to continue.\n",
    "#Assume that the user will enter valid integers for the grades.\n",
    "#The application should only continue if the user agrees to.\n",
    "#Grade Ranges:\n",
    "\n",
    "# A : 100 - 88\n",
    "# B : 87 - 80\n",
    "# C : 79 - 67\n",
    "# D : 66 - 60\n",
    "#F : 59 - 0\n",
    "# BONUS Edit your grade ranges to include pluses and minuses (ex: 99-100 = A+).\n",
    "continues= input(\"Do you want to continue? \")\n",
    "while continues == \"yes\" or continues == \"y\":\n",
    "    numerical_grade = int(input(\"Please input a numerical grade from 1 to 100: \"))\n",
    "    if numerical_grade in range(87, 101):\n",
    "        print(numerical_grade,\"is an A.\")\n",
    "    elif numerical_grade in range(79,88):\n",
    "        print(numerical_grade,\"is a B.\")\n",
    "    elif numerical_grade in range(67,80):\n",
    "        print(numerical_grade, \"is a C.\")  \n",
    "    elif numerical_grade in range(60,67):\n",
    "        print(numerical_grade, \"is a D.\")  \n",
    "    elif numerical_grade <=59:\n",
    "        print(numerical_grade, \"is a F.\") \n",
    "    continues= input(\"Do you want to continue?\")\n",
    "    if continues not in [\"yes\", \"y\"]:\n",
    "        print(\"The code will not continue per your request\")\n"
   ]
  },
  {
   "cell_type": "code",
   "execution_count": 5,
   "metadata": {},
   "outputs": [
    {
     "name": "stdout",
     "output_type": "stream",
     "text": [
      "title: Alan Turing: The Enigma\n",
      "author: Andrew Hodges\n",
      "genre: Biography\n",
      "title: This is where I leave you\n",
      "author: Jonathan Tropper\n",
      "genre: Adult Fiction\n",
      "title: Me\n",
      "author: Elton John\n",
      "genre: Biography\n",
      "title: Orange is the new black: My year in a women's prison\n",
      "author: Piper Kerman\n",
      "genre: Biography\n",
      "Please pick a genre. Biography\n",
      "title: Alan Turing: The Enigma\n",
      "author: Andrew Hodges\n",
      "genre: Biography\n",
      "Sorry, we don't have a book in that genre.\n",
      "title: Me\n",
      "author: Elton John\n",
      "genre: Biography\n",
      "title: Orange is the new black: My year in a women's prison\n",
      "author: Piper Kerman\n",
      "genre: Biography\n"
     ]
    }
   ],
   "source": [
    "# 6. \n",
    "#Create a list of dictionaries where each dictionary represents a book that you have read. \n",
    "#Each dictionary in the list should have the keys title, author, and genre. \n",
    "#Loop through the list and print out information about each book.\n",
    "#Prompt the user to enter a genre, \n",
    "#then loop through your books list and print out the titles of all the books in that genre.\n",
    "books = [\n",
    "    {\n",
    "        \"title\": \"Alan Turing: The Enigma\",\n",
    "        \"author\": \"Andrew Hodges\",\n",
    "        \"genre\": \"Biography\"\n",
    "    },\n",
    "    {\n",
    "        \"title\": \"This is where I leave you\",\n",
    "        \"author\": \"Jonathan Tropper\",\n",
    "        \"genre\": \"Adult Fiction\"\n",
    "    },\n",
    "    {\n",
    "        \"title\": \"Me\",\n",
    "        \"author\": \"Elton John\",\n",
    "        \"genre\": \"Biography\"\n",
    "    },\n",
    "    {\n",
    "        \"title\": \"Orange is the new black: My year in a women's prison\",\n",
    "        \"author\": \"Piper Kerman\",\n",
    "        \"genre\": \"Biography\"\n",
    "    }\n",
    "]\n",
    "for book in books:\n",
    "    print('title: ' +book['title'])\n",
    "    print('author: ' +book['author'])\n",
    "    print('genre: ' +book['genre'])\n",
    "    \n",
    "\n",
    "    "
   ]
  },
  {
   "cell_type": "code",
   "execution_count": 6,
   "metadata": {},
   "outputs": [
    {
     "name": "stdout",
     "output_type": "stream",
     "text": [
      "Please pick a genre. sci-fi\n",
      "Sorry, we don't have a book in that genre.\n",
      "Sorry, we don't have a book in that genre.\n",
      "Sorry, we don't have a book in that genre.\n",
      "Sorry, we don't have a book in that genre.\n"
     ]
    }
   ],
   "source": [
    "pick_a_genre= input(\"Please pick a genre. \")\n",
    "for book in books:\n",
    "    if book['genre'] == pick_a_genre:\n",
    "        print('title: ' +book['title'])\n",
    "        print('author: ' +book['author'])\n",
    "        print('genre: ' +book['genre'])\n",
    "    else:\n",
    "        print(\"Sorry, we don't have a book in that genre.\")"
   ]
  },
  {
   "cell_type": "code",
   "execution_count": null,
   "metadata": {},
   "outputs": [],
   "source": []
  }
 ],
 "metadata": {
  "kernelspec": {
   "display_name": "Python 3",
   "language": "python",
   "name": "python3"
  },
  "language_info": {
   "codemirror_mode": {
    "name": "ipython",
    "version": 3
   },
   "file_extension": ".py",
   "mimetype": "text/x-python",
   "name": "python",
   "nbconvert_exporter": "python",
   "pygments_lexer": "ipython3",
   "version": "3.7.6"
  }
 },
 "nbformat": 4,
 "nbformat_minor": 4
}
